{
 "cells": [
  {
   "cell_type": "markdown",
   "id": "6af09422",
   "metadata": {},
   "source": [
    "# Importing python library"
   ]
  },
  {
   "cell_type": "code",
   "execution_count": 159,
   "id": "45e0c1ff",
   "metadata": {},
   "outputs": [],
   "source": [
    "import matplotlib.pyplot as plt\n",
    "import numpy as np\n",
    "import pandas as pd\n",
    "from scipy.stats import linregress"
   ]
  },
  {
   "cell_type": "markdown",
   "id": "e111dc15",
   "metadata": {},
   "source": [
    "# Print the first 5 rows of SPY"
   ]
  },
  {
   "cell_type": "code",
   "execution_count": 160,
   "id": "3a980c9d",
   "metadata": {},
   "outputs": [
    {
     "name": "stdout",
     "output_type": "stream",
     "text": [
      "         Date        Open        High         Low       Close   Adj Close  \\\n",
      "0  2016-08-18  218.339996  218.899994  218.210007  218.860001  198.829834   \n",
      "1  2016-08-19  218.309998  218.750000  217.740005  218.539993  198.539169   \n",
      "2  2016-08-22  218.259995  218.800003  217.830002  218.529999  198.530075   \n",
      "3  2016-08-23  219.250000  219.600006  218.899994  218.970001  198.929810   \n",
      "4  2016-08-24  218.800003  218.910004  217.360001  217.850006  197.912338   \n",
      "\n",
      "     Volume  \n",
      "0  52989300  \n",
      "1  75443000  \n",
      "2  61368800  \n",
      "3  53399200  \n",
      "4  71728900  \n"
     ]
    }
   ],
   "source": [
    "SPY = pd.read_csv(r'C:\\Users\\fcars\\Desktop\\RSM332\\SPY.csv')\n",
    "first_5_SPY = SPY.head()\n",
    "print(first_5_SPY)"
   ]
  },
  {
   "cell_type": "markdown",
   "id": "642f3e1b",
   "metadata": {},
   "source": [
    "# Calculate daily return from the adj close for SPY, AAPL, and JPM. Also returning the first 5 rows of data\n"
   ]
  },
  {
   "cell_type": "code",
   "execution_count": 161,
   "id": "b9d2ed2e",
   "metadata": {
    "scrolled": true
   },
   "outputs": [
    {
     "name": "stdout",
     "output_type": "stream",
     "text": [
      "1   -0.001462\n",
      "2   -0.000046\n",
      "3    0.002013\n",
      "4   -0.005115\n",
      "5   -0.000689\n",
      "Name: Adj Close, dtype: float64\n",
      "1    0.002567\n",
      "2   -0.007772\n",
      "3    0.003133\n",
      "4   -0.007533\n",
      "5   -0.004258\n",
      "Name: Adj Close, dtype: float64\n",
      "1   -0.001365\n",
      "2   -0.000911\n",
      "3   -0.000456\n",
      "4    0.002737\n",
      "5    0.001820\n",
      "Name: Adj Close, dtype: float64\n"
     ]
    }
   ],
   "source": [
    "AAPL = pd.read_csv(r'C:\\Users\\fcars\\Desktop\\RSM332\\AAPL.csv')\n",
    "JPM = pd.read_csv(r'C:\\Users\\fcars\\Desktop\\RSM332\\JPM.csv')\n",
    "\n",
    "SPY_daily_return = SPY['Adj Close'].pct_change(1)\n",
    "print(SPY_daily_return[1:6])\n",
    "\n",
    "AAPL_daily_return = AAPL['Adj Close'].pct_change(1)\n",
    "print(AAPL_daily_return[1:6])\n",
    "\n",
    "JPM_daily_return = JPM['Adj Close'].pct_change(1)\n",
    "print(JPM_daily_return[1:6])"
   ]
  },
  {
   "cell_type": "markdown",
   "id": "76ffaa10",
   "metadata": {},
   "source": [
    "# Calculate the beta for AAPL when its returns are regresst against SPY's return"
   ]
  },
  {
   "cell_type": "code",
   "execution_count": 162,
   "id": "387f1253",
   "metadata": {},
   "outputs": [
    {
     "name": "stdout",
     "output_type": "stream",
     "text": [
      "0.48336325991218665\n"
     ]
    }
   ],
   "source": [
    "from sklearn.linear_model import LinearRegression\n",
    "lr = LinearRegression()\n",
    "\n",
    "x = AAPL_daily_return.iloc[1:].to_numpy().reshape(-1,1)\n",
    "\n",
    "y = SPY_daily_return.iloc[1:].to_numpy().reshape(-1,1)\n",
    "\n",
    "lr.fit(x,y)\n",
    "lr.coef_[0,0]\n",
    "Beta = lr.coef_[0,0]\n",
    "print(Beta)"
   ]
  },
  {
   "cell_type": "markdown",
   "id": "85c3d90d",
   "metadata": {},
   "source": [
    "# Returning the first 100 rows as historial data for AAPL and JPM"
   ]
  },
  {
   "cell_type": "code",
   "execution_count": 163,
   "id": "04ef2a0f",
   "metadata": {},
   "outputs": [
    {
     "name": "stdout",
     "output_type": "stream",
     "text": [
      "1      0.002567\n",
      "2     -0.007772\n",
      "3      0.003133\n",
      "4     -0.007533\n",
      "5     -0.004258\n",
      "         ...   \n",
      "96     0.005085\n",
      "97     0.011148\n",
      "98     0.009160\n",
      "99     0.001008\n",
      "100    0.005373\n",
      "Name: Adj Close, Length: 100, dtype: float64\n",
      "1     -0.001365\n",
      "2     -0.000911\n",
      "3     -0.000456\n",
      "4      0.002737\n",
      "5      0.001820\n",
      "         ...   \n",
      "96    -0.009205\n",
      "97     0.000116\n",
      "98     0.000697\n",
      "99     0.002901\n",
      "100    0.007521\n",
      "Name: Adj Close, Length: 100, dtype: float64\n"
     ]
    }
   ],
   "source": [
    "AAPL_historical = AAPL_daily_return[1:101]\n",
    "JPM_historical = JPM_daily_return[1:101]\n",
    "SPY_historical = SPY_daily_return[1:101]\n",
    "print(AAPL_historical)\n",
    "print(JPM_historical)"
   ]
  },
  {
   "cell_type": "markdown",
   "id": "71b25ff7",
   "metadata": {},
   "source": [
    "# Denote all data after the 100th return as Future"
   ]
  },
  {
   "cell_type": "code",
   "execution_count": 164,
   "id": "7c53d03a",
   "metadata": {},
   "outputs": [
    {
     "name": "stdout",
     "output_type": "stream",
     "text": [
      "101    -0.004175\n",
      "102    -0.001761\n",
      "103     0.008065\n",
      "104    -0.000084\n",
      "105    -0.001750\n",
      "          ...   \n",
      "1095   -0.006976\n",
      "1096    0.007712\n",
      "1097    0.035766\n",
      "1098   -0.013315\n",
      "1099   -0.008527\n",
      "Name: Adj Close, Length: 999, dtype: float64\n",
      "101    -0.009647\n",
      "102     0.005334\n",
      "103    -0.036332\n",
      "104     0.004668\n",
      "105    -0.007624\n",
      "          ...   \n",
      "1095    0.027944\n",
      "1096   -0.004398\n",
      "1097    0.006585\n",
      "1098   -0.002633\n",
      "1099    0.002800\n",
      "Name: Adj Close, Length: 999, dtype: float64\n",
      "101    -0.002510\n",
      "102     0.002296\n",
      "103    -0.003523\n",
      "104     0.002210\n",
      "105    -0.003704\n",
      "          ...   \n",
      "1095    0.000899\n",
      "1096    0.003890\n",
      "1097    0.008591\n",
      "1098   -0.001908\n",
      "1099    0.001427\n",
      "Name: Adj Close, Length: 999, dtype: float64\n"
     ]
    }
   ],
   "source": [
    "AAPL_future = AAPL_daily_return[101:]\n",
    "JPM_future = JPM_daily_return[101:]\n",
    "SPY_future = SPY_daily_return[101:]\n",
    "print(AAPL_future)\n",
    "print(JPM_future)\n",
    "print(SPY_future)"
   ]
  },
  {
   "cell_type": "markdown",
   "id": "e1301c61",
   "metadata": {},
   "source": [
    "# Calculate the mean of historical data of the returns for JPM and AAPL"
   ]
  },
  {
   "cell_type": "code",
   "execution_count": 165,
   "id": "0003ac50",
   "metadata": {},
   "outputs": [
    {
     "name": "stdout",
     "output_type": "stream",
     "text": [
      "0.0010455215395389873\n",
      "0.011073708984865286\n"
     ]
    }
   ],
   "source": [
    "APPL_historical_mean = AAPL_historical.mean()\n",
    "APPL_historical_std = AAPL_historical.std()\n",
    "print(APPL_historical_mean)\n",
    "print(APPL_historical_std)\n"
   ]
  },
  {
   "cell_type": "markdown",
   "id": "b318695e",
   "metadata": {},
   "source": [
    "# Calculate the standard deviation of the historical data of the returns for JPM and AAPL"
   ]
  },
  {
   "cell_type": "code",
   "execution_count": 166,
   "id": "e8d39947",
   "metadata": {},
   "outputs": [
    {
     "name": "stdout",
     "output_type": "stream",
     "text": [
      "0.0029686799098698593\n",
      "0.010850227573300751\n"
     ]
    }
   ],
   "source": [
    "JPM_historical_mean = JPM_historical.mean()\n",
    "JPM_historical_std = JPM_historical.std()\n",
    "print(JPM_historical_mean)\n",
    "print(JPM_historical_std)"
   ]
  },
  {
   "cell_type": "markdown",
   "id": "e4c21269",
   "metadata": {},
   "source": [
    "# Calculate the correlation between the historical returns of JPM and AAPL"
   ]
  },
  {
   "cell_type": "code",
   "execution_count": 167,
   "id": "96255199",
   "metadata": {},
   "outputs": [
    {
     "data": {
      "text/plain": [
       "array([[ 1.        , -0.16406481],\n",
       "       [-0.16406481,  1.        ]])"
      ]
     },
     "execution_count": 167,
     "metadata": {},
     "output_type": "execute_result"
    }
   ],
   "source": [
    "np.corrcoef(AAPL_historical, JPM_historical, rowvar=False)"
   ]
  },
  {
   "cell_type": "markdown",
   "id": "86fbe159",
   "metadata": {},
   "source": [
    "# Construct a portfolio with different weight on each stock"
   ]
  },
  {
   "cell_type": "code",
   "execution_count": 168,
   "id": "1cd0a710",
   "metadata": {},
   "outputs": [
    {
     "name": "stdout",
     "output_type": "stream",
     "text": [
      "101    -0.005270\n",
      "102    -0.000342\n",
      "103    -0.000815\n",
      "104     0.000867\n",
      "105    -0.002925\n",
      "          ...   \n",
      "1095    0.000008\n",
      "1096    0.005290\n",
      "1097    0.029930\n",
      "1098   -0.011178\n",
      "1099   -0.006261\n",
      "Name: Adj Close, Length: 999, dtype: float64\n",
      "101    -0.006364\n",
      "102     0.001077\n",
      "103    -0.009694\n",
      "104     0.001817\n",
      "105    -0.004100\n",
      "          ...   \n",
      "1095    0.006992\n",
      "1096    0.002868\n",
      "1097    0.024094\n",
      "1098   -0.009042\n",
      "1099   -0.003996\n",
      "Name: Adj Close, Length: 999, dtype: float64\n",
      "101    -0.007458\n",
      "102     0.002496\n",
      "103    -0.018573\n",
      "104     0.002767\n",
      "105    -0.005275\n",
      "          ...   \n",
      "1095    0.013976\n",
      "1096    0.000446\n",
      "1097    0.018257\n",
      "1098   -0.006906\n",
      "1099   -0.001731\n",
      "Name: Adj Close, Length: 999, dtype: float64\n",
      "101    -0.008552\n",
      "102     0.003915\n",
      "103    -0.027453\n",
      "104     0.003717\n",
      "105    -0.006449\n",
      "          ...   \n",
      "1095    0.020960\n",
      "1096   -0.001976\n",
      "1097    0.012421\n",
      "1098   -0.004769\n",
      "1099    0.000534\n",
      "Name: Adj Close, Length: 999, dtype: float64\n"
     ]
    }
   ],
   "source": [
    "new_portfolio_future_1 = JPM_future*0.2 + AAPL_future*0.8\n",
    "new_portfolio_future_2 = JPM_future*0.4 + AAPL_future*0.6\n",
    "new_portfolio_future_3 = JPM_future*0.6 + AAPL_future*0.4\n",
    "new_portfolio_future_4 = JPM_future*0.8 + AAPL_future*0.2\n",
    "print(new_portfolio_future_1)\n",
    "print(new_portfolio_future_2)\n",
    "print(new_portfolio_future_3)\n",
    "print(new_portfolio_future_4)\n"
   ]
  },
  {
   "cell_type": "markdown",
   "id": "6e725766",
   "metadata": {},
   "source": [
    "# Calculate the mean of each newly constructed portfolio "
   ]
  },
  {
   "cell_type": "code",
   "execution_count": 169,
   "id": "995dc920",
   "metadata": {
    "scrolled": true
   },
   "outputs": [
    {
     "name": "stdout",
     "output_type": "stream",
     "text": [
      "0.001537824609661416\n",
      "0.0013216642792790681\n",
      "0.0011055039488967176\n",
      "0.0008893436185143689\n"
     ]
    }
   ],
   "source": [
    "portfolio1_mean = new_portfolio_future_1.mean()\n",
    "portfolio2_mean = new_portfolio_future_2.mean()\n",
    "portfolio3_mean = new_portfolio_future_3.mean()\n",
    "portfolio4_mean = new_portfolio_future_4.mean()\n",
    "print(portfolio1_mean)\n",
    "print(portfolio2_mean)\n",
    "print(portfolio3_mean)\n",
    "print(portfolio4_mean)\n"
   ]
  },
  {
   "cell_type": "markdown",
   "id": "efa81d67",
   "metadata": {},
   "source": [
    "# Calculate the standard deviation of each newly constructed portfolio "
   ]
  },
  {
   "cell_type": "code",
   "execution_count": 170,
   "id": "1258d83b",
   "metadata": {},
   "outputs": [
    {
     "name": "stdout",
     "output_type": "stream",
     "text": [
      "0.018316456199674966\n",
      "0.017426504277818732\n",
      "0.0174584219835216\n",
      "0.01840741448830439\n"
     ]
    }
   ],
   "source": [
    "portfolio1_std = new_portfolio_future_1.std()\n",
    "portfolio2_std = new_portfolio_future_2.std()\n",
    "portfolio3_std = new_portfolio_future_3.std()\n",
    "portfolio4_std = new_portfolio_future_4.std()\n",
    "print(portfolio1_std)\n",
    "print(portfolio2_std)\n",
    "print(portfolio3_std)\n",
    "print(portfolio4_std)"
   ]
  },
  {
   "cell_type": "code",
   "execution_count": 171,
   "id": "a7145c2b",
   "metadata": {},
   "outputs": [],
   "source": [
    "AAPL_future_mean = AAPL_future.mean()\n",
    "JPM_future_mean = JPM_future.mean()"
   ]
  },
  {
   "cell_type": "code",
   "execution_count": 172,
   "id": "374abf74",
   "metadata": {},
   "outputs": [],
   "source": [
    "AAPL_future_std = AAPL_future.std()\n",
    "JPM_future_std = JPM_future.std()"
   ]
  },
  {
   "cell_type": "markdown",
   "id": "2f07540a",
   "metadata": {},
   "source": [
    "# Calculate Sharpe ratio for the future returns of each stock"
   ]
  },
  {
   "cell_type": "code",
   "execution_count": 173,
   "id": "4f42c70e",
   "metadata": {},
   "outputs": [
    {
     "name": "stdout",
     "output_type": "stream",
     "text": [
      "0.08767458681290755\n",
      "0.03341807543674562\n"
     ]
    }
   ],
   "source": [
    "AAPL_future_sharpe_ratio = AAPL_future_mean/AAPL_future_std\n",
    "JPM_future_sharpe_ratio = JPM_future_mean/JPM_future_std\n",
    "print(AAPL_future_sharpe_ratio)\n",
    "print(JPM_future_sharpe_ratio)"
   ]
  },
  {
   "cell_type": "markdown",
   "id": "e08068c2",
   "metadata": {},
   "source": [
    "# Calculate Sharpe ratio for the four portfolios where w = 0.2, 0.4, 0.6, 0.8"
   ]
  },
  {
   "cell_type": "code",
   "execution_count": 174,
   "id": "01e0d8b8",
   "metadata": {},
   "outputs": [
    {
     "name": "stdout",
     "output_type": "stream",
     "text": [
      "0.08395863222104642\n",
      "0.07584219176770547\n",
      "0.06035577716809299\n",
      "0.0485543496416163\n"
     ]
    }
   ],
   "source": [
    "porfolio1_sharpe_ratio = portfolio1_mean/portfolio1_std\n",
    "porfolio2_sharpe_ratio = portfolio2_mean/portfolio2_std\n",
    "porfolio3_sharpe_ratio = portfolio3_mean/portfolio1_std\n",
    "porfolio4_sharpe_ratio = portfolio4_mean/portfolio1_std\n",
    "print(porfolio1_sharpe_ratio)\n",
    "print(porfolio2_sharpe_ratio)\n",
    "print(porfolio3_sharpe_ratio)\n",
    "print(porfolio4_sharpe_ratio)\n"
   ]
  }
 ],
 "metadata": {
  "kernelspec": {
   "display_name": "Python 3",
   "language": "python",
   "name": "python3"
  },
  "language_info": {
   "codemirror_mode": {
    "name": "ipython",
    "version": 3
   },
   "file_extension": ".py",
   "mimetype": "text/x-python",
   "name": "python",
   "nbconvert_exporter": "python",
   "pygments_lexer": "ipython3",
   "version": "3.8.8"
  }
 },
 "nbformat": 4,
 "nbformat_minor": 5
}
