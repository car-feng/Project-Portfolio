{
 "cells": [
  {
   "cell_type": "code",
   "execution_count": 78,
   "id": "739aed7f",
   "metadata": {},
   "outputs": [],
   "source": [
    "import os\n",
    "\n",
    "import pandas as pd\n",
    "import numpy as np\n",
    "\n",
    "# plotting packages\n",
    "%matplotlib inline\n",
    "from mpl_toolkits.mplot3d import Axes3D\n",
    "import matplotlib.pyplot as plt\n",
    "import matplotlib.cm as cm\n",
    "import matplotlib.colors as clrs\n",
    "\n",
    "# Kmeans algorithm from scikit-learn\n",
    "from sklearn.cluster import KMeans\n",
    "from sklearn.metrics import silhouette_samples, silhouette_score"
   ]
  },
  {
   "cell_type": "code",
   "execution_count": 79,
   "id": "5268beed",
   "metadata": {
    "scrolled": true
   },
   "outputs": [
    {
     "name": "stdout",
     "output_type": "stream",
     "text": [
      "Size of the dataset (row, col):  (121, 6)\n",
      "\n",
      "First 5 rows\n",
      "      Country Abbrev  Corruption  Peace  Legal  GDP Growth\n",
      "0    Albania     AL          35  1.821  4.546       2.983\n",
      "1    Algeria     DZ          35  2.219  4.435       2.553\n",
      "2  Argentina     AR          45  1.989  5.087      -3.061\n",
      "3    Armenia     AM          42  2.294  4.812       6.000\n",
      "4  Australia     AU          77  1.419  8.363       1.713\n"
     ]
    }
   ],
   "source": [
    "raw = pd.read_csv(r'C:\\Users\\fcars\\Desktop\\RSM338\\python assignment 2\\Country Risk 2019 Data.csv')\n",
    "\n",
    "# check the raw data\n",
    "print(\"Size of the dataset (row, col): \", raw.shape)\n",
    "print(\"\\nFirst 5 rows\\n\", raw.head(n=5))"
   ]
  },
  {
   "cell_type": "code",
   "execution_count": 80,
   "id": "31a90ab8",
   "metadata": {
    "scrolled": true
   },
   "outputs": [
    {
     "name": "stdout",
     "output_type": "stream",
     "text": [
      "\n",
      "Summary statistics\n",
      "        Corruption       Peace       Legal  GDP Growth\n",
      "count  121.000000  121.000000  121.000000  121.000000\n",
      "mean    46.842975    2.001017    5.752529    2.657529\n",
      "std     18.702499    0.461485    1.373932    2.563741\n",
      "min     15.000000    1.072000    2.671000   -9.459000\n",
      "25%     33.000000    1.699000    4.785000    1.249000\n",
      "50%     41.000000    1.939000    5.455000    2.600000\n",
      "75%     60.000000    2.294000    6.488000    4.000000\n",
      "max     87.000000    3.369000    8.712000    7.800000\n",
      "\n",
      "Correlation matrix\n",
      "             Corruption     Peace     Legal  GDP Growth\n",
      "Corruption    1.000000 -0.705002  0.938512   -0.123545\n",
      "Peace        -0.705002  1.000000 -0.662233   -0.004428\n",
      "Legal         0.938512 -0.662233  1.000000   -0.150369\n",
      "GDP Growth   -0.123545 -0.004428 -0.150369    1.000000\n"
     ]
    }
   ],
   "source": [
    "print(\"\\nSummary statistics\\n\", raw.describe())\n",
    "print(\"\\nCorrelation matrix\\n\", raw.corr())"
   ]
  },
  {
   "cell_type": "code",
   "execution_count": 81,
   "id": "f5364023",
   "metadata": {},
   "outputs": [
    {
     "name": "stdout",
     "output_type": "stream",
     "text": [
      "      Peace     Legal  GDP Growth\n",
      "0 -0.390081 -0.878158    0.126952\n",
      "1  0.472352 -0.958948   -0.040772\n",
      "2 -0.026039 -0.484397   -2.230541\n",
      "3  0.634871 -0.684553    1.303747\n",
      "4 -1.261182  1.900001   -0.368418\n"
     ]
    }
   ],
   "source": [
    "X = raw[['Peace', 'Legal', 'GDP Growth']]\n",
    "X = (X - X.mean()) / X.std()\n",
    "print(X.head(5))"
   ]
  },
  {
   "cell_type": "code",
   "execution_count": 96,
   "id": "7de973d2",
   "metadata": {},
   "outputs": [
    {
     "name": "stdout",
     "output_type": "stream",
     "text": [
      "inertia for k=3 is 161.13338710052557\n",
      "cluster centers:  [[ 1.22506036 -0.83385901 -1.07842464]\n",
      " [-0.85097477  1.02149992 -0.23897931]\n",
      " [ 0.23006626 -0.54045468  0.65506397]]\n",
      "cluster labels:  [2 2 0 2 1 1 2 2 2 1 2 2 2 1 0 2 0 2 1 0 1 2 2 1 2 1 1 0 1 2 0 2 2 1 2 1 1\n",
      " 2 2 1 2 2 2 2 1 1 2 2 0 1 2 1 1 1 1 2 2 1 1 1 0 0 1 2 2 1 2 2 1 0 2 2 2 2\n",
      " 2 1 1 0 0 1 1 0 2 0 2 2 1 1 1 1 0 2 0 2 2 2 1 1 1 0 1 2 1 1 1 2 2 2 0 2 0\n",
      " 2 0 1 1 1 1 2 0 2 0]\n"
     ]
    }
   ],
   "source": [
    "# using default n_init (=10)\n",
    "k = 3\n",
    "kmeans = KMeans(n_clusters=k, random_state=1)\n",
    "kmeans.fit(X)\n",
    "\n",
    "# print inertia & cluster center\n",
    "print(\"inertia for k=3 is\", kmeans.inertia_)\n",
    "print(\"cluster centers: \", kmeans.cluster_centers_)\n",
    "\n",
    "# take a quick look at the result\n",
    "y = kmeans.labels_\n",
    "print(\"cluster labels: \", y)"
   ]
  },
  {
   "cell_type": "code",
   "execution_count": 97,
   "id": "2afbe1aa",
   "metadata": {
    "scrolled": true
   },
   "outputs": [
    {
     "name": "stdout",
     "output_type": "stream",
     "text": [
      "                          Country Abbrev  Label\n",
      "60                        Lebanon     LB      0\n",
      "30                        Ecuador     EC      0\n",
      "48                           Iran     IR      0\n",
      "61                        Liberia     LR      0\n",
      "69                         Mexico     MX      0\n",
      "77                      Nicaragua     NI      0\n",
      "78                        Nigeria     NG      0\n",
      "81                       Pakistan     PK      0\n",
      "83                       Paraguay     PY      0\n",
      "90                         Russia     RU      0\n",
      "92                   Saudi Arabia     SA      0\n",
      "99                   South Africa     ZA      0\n",
      "108           Trinidad and Tobago     TT      0\n",
      "110                        Turkey     TR      0\n",
      "112                       Ukraine     UA      0\n",
      "118                         Yemen     YE      0\n",
      "27   Democratic Republic of Congo     CD      0\n",
      "19                           Chad     TD      0\n",
      "120                      Zimbabwe     ZW      0\n",
      "14                         Brazil     BR      0\n",
      "16                        Burundi     BI      0\n",
      "2                       Argentina     AR      0\n",
      "51                          Italy     IT      1\n",
      "103                   Switzerland     CH      1\n",
      "49                        Ireland     IE      1\n",
      "102                        Sweden     SE      1\n",
      "86                         Poland     PL      1\n",
      "52                        Jamaica     JM      1\n",
      "53                          Japan     JP      1\n",
      "54                         Jordan     JO      1\n",
      "100                         Spain     ES      1\n",
      "57                  Korea (South)     KI      1\n",
      "58                         Kuwait     KW      1\n",
      "59                         Latvia     LV      1\n",
      "5                         Austria     AT      1\n",
      "13                       Botswana     BW      1\n",
      "62                      Lithuania     LT      1\n",
      "98                       Slovenia     SI      1\n",
      "97                       Slovakia     SK      1\n",
      "65                       Malaysia     MY      1\n",
      "96                      Singapore     SG      1\n",
      "68                      Mauritius     MU      1\n",
      "104                        Taiwan     SY      1\n",
      "45                        Iceland     IS      1\n",
      "44                        Hungary     HU      1\n",
      "75                    Netherlands     NL      1\n",
      "20                          Chile     CL      1\n",
      "87                       Portugal     PT      1\n",
      "9                         Belgium     BE      1\n",
      "23                     Costa Rica     CR      1\n",
      "116                       Uruguay     UY      1\n",
      "25                         Cyprus     CY      1\n",
      "26                 Czech Republic     CZ      1\n",
      "28                        Denmark     DK      1\n",
      "115                 United States     US      1\n",
      "114                United Kingdom     GB      1\n",
      "18                         Canada     CA      1\n",
      "113          United Arab Emirates     AE      1\n",
      "80                           Oman     OM      1\n",
      "35                        Finland     FI      1\n",
      "36                         France     FR      1\n",
      "79                         Norway     NO      1\n",
      "88                          Qatar     QA      1\n",
      "39                        Germany     DE      1\n",
      "4                       Australia     AU      1\n",
      "89                        Romania     RO      1\n",
      "76                    New Zealand     NZ      1\n",
      "33                        Estonia     EE      1\n",
      "7                         Bahrain     BH      2\n",
      "91                         Rwanda     RW      2\n",
      "6                      Azerbaijan     AZ      2\n",
      "17                       Cameroon     CM      2\n",
      "94                         Serbia     RS      2\n",
      "95                   Sierra Leone     SL      2\n",
      "101                     Sri Lanka     LK      2\n",
      "105                      Tanzania     TZ      2\n",
      "106                      Thailand     TH      2\n",
      "107          The FYR of Macedonia     MK      2\n",
      "109                       Tunisia     TN      2\n",
      "3                         Armenia     AM      2\n",
      "111                        Uganda     UG      2\n",
      "117                       Vietnam     VI      2\n",
      "1                         Algeria     DZ      2\n",
      "93                        Senegal     SN      2\n",
      "85                    Philippines     PH      2\n",
      "12         Bosnia and Herzegovina     BA      2\n",
      "8                      Bangladesh     BD      2\n",
      "43                       Honduras     HN      2\n",
      "42                      Guatemala     GT      2\n",
      "41                         Greece     GR      2\n",
      "40                          Ghana     GH      2\n",
      "38                        Georgia     GE      2\n",
      "37                          Gabon     GA      2\n",
      "46                          India     IN      2\n",
      "34                       Ethiopia     ET      2\n",
      "31                          Egypt     EG      2\n",
      "15                       Bulgaria     BG      2\n",
      "29             Dominican Republic     DO      2\n",
      "24                        Croatia     HR      2\n",
      "22                       Colombia     CO      2\n",
      "21                          China     CN      2\n",
      "32                    El Salvador     SV      2\n",
      "84                           Peru     PE      2\n",
      "47                      Indonesia     ID      2\n",
      "55                     Kazakhstan     KZ      2\n",
      "82                         Panama     PA      2\n",
      "10                          Benin     BJ      2\n",
      "11                        Bolivia     BO      2\n",
      "74                          Nepal     NP      2\n",
      "73                     Mozambique     MZ      2\n",
      "72                        Morocco     MA      2\n",
      "50                         Israel     IL      2\n",
      "71                     Montenegro     ME      2\n",
      "67                     Mauritania     MR      2\n",
      "66                           Mali     ML      2\n",
      "64                         Malawi     MW      2\n",
      "63                     Madagascar     MG      2\n",
      "119                        Zambia     ZM      2\n",
      "56                          Kenya     KE      2\n",
      "70                        Moldova     FM      2\n",
      "0                         Albania     AL      2\n"
     ]
    }
   ],
   "source": [
    "result = pd.DataFrame({'Country':raw['Country'], 'Abbrev':raw['Abbrev'], 'Label':y})\n",
    "with pd.option_context('display.max_rows', None, 'display.max_columns', 3):\n",
    "    print(result.sort_values('Label'))"
   ]
  },
  {
   "cell_type": "code",
   "execution_count": 98,
   "id": "7bfc0a3f",
   "metadata": {},
   "outputs": [
    {
     "name": "stdout",
     "output_type": "stream",
     "text": [
      "      Label\n",
      "      count\n",
      "Label      \n",
      "0        22\n",
      "1        46\n",
      "2        53\n"
     ]
    }
   ],
   "source": [
    "#count labels when n_init is in default \n",
    "n_init_default = result.groupby(\"Label\")[[\"Label\"]].agg(['count'])\n",
    "print(n_init_default)"
   ]
  },
  {
   "cell_type": "markdown",
   "id": "e3096132",
   "metadata": {},
   "source": [
    "# (B) Changing n_init to 2, 5, 11, 12"
   ]
  },
  {
   "cell_type": "markdown",
   "id": "7b149662",
   "metadata": {},
   "source": [
    "# When n_init = 2"
   ]
  },
  {
   "cell_type": "code",
   "execution_count": 99,
   "id": "2d53c191",
   "metadata": {},
   "outputs": [
    {
     "name": "stdout",
     "output_type": "stream",
     "text": [
      "inertia for k=3 is 169.24242908631018\n",
      "cluster centers:  [[ 0.53110654 -0.61456608  0.34774502]\n",
      " [-0.85103491  0.99692377 -0.22524313]\n",
      " [ 0.70529573 -0.95894794 -3.43893096]]\n",
      "cluster labels:  [0 0 2 0 1 1 0 0 0 1 0 0 0 1 0 1 0 0 1 0 1 0 0 1 0 1 1 0 1 0 0 0 0 1 0 1 1\n",
      " 0 0 1 0 0 0 0 1 1 0 0 2 1 0 1 1 1 1 0 0 1 1 1 0 0 1 0 0 1 0 0 1 0 0 0 0 0\n",
      " 0 1 1 2 0 1 1 0 0 0 0 0 1 1 1 1 0 0 0 0 0 0 1 1 1 0 1 0 1 1 1 0 0 0 0 0 0\n",
      " 0 0 1 1 1 1 0 0 0 2]\n"
     ]
    }
   ],
   "source": [
    "# using n_init = 2\n",
    "k = 3\n",
    "kmeans = KMeans(n_clusters=k, n_init=2, random_state=1)\n",
    "kmeans.fit(X)\n",
    "\n",
    "# print inertia & cluster center\n",
    "print(\"inertia for k=3 is\", kmeans.inertia_)\n",
    "print(\"cluster centers: \", kmeans.cluster_centers_)\n",
    "\n",
    "# take a quick look at the result\n",
    "y = kmeans.labels_\n",
    "print(\"cluster labels: \", y)"
   ]
  },
  {
   "cell_type": "code",
   "execution_count": 102,
   "id": "b8d454eb",
   "metadata": {},
   "outputs": [
    {
     "name": "stdout",
     "output_type": "stream",
     "text": [
      "                          Country Abbrev  Label\n",
      "0                         Albania     AL      0\n",
      "81                       Pakistan     PK      0\n",
      "78                        Nigeria     NG      0\n",
      "74                          Nepal     NP      0\n",
      "73                     Mozambique     MZ      0\n",
      "72                        Morocco     MA      0\n",
      "71                     Montenegro     ME      0\n",
      "70                        Moldova     FM      0\n",
      "69                         Mexico     MX      0\n",
      "82                         Panama     PA      0\n",
      "67                     Mauritania     MR      0\n",
      "64                         Malawi     MW      0\n",
      "63                     Madagascar     MG      0\n",
      "61                        Liberia     LR      0\n",
      "119                        Zambia     ZM      0\n",
      "56                          Kenya     KE      0\n",
      "55                     Kazakhstan     KZ      0\n",
      "50                         Israel     IL      0\n",
      "47                      Indonesia     ID      0\n",
      "66                           Mali     ML      0\n",
      "46                          India     IN      0\n",
      "83                       Paraguay     PY      0\n",
      "85                    Philippines     PH      0\n",
      "118                         Yemen     YE      0\n",
      "117                       Vietnam     VI      0\n",
      "112                       Ukraine     UA      0\n",
      "111                        Uganda     UG      0\n",
      "110                        Turkey     TR      0\n",
      "109                       Tunisia     TN      0\n",
      "108           Trinidad and Tobago     TT      0\n",
      "107          The FYR of Macedonia     MK      0\n",
      "84                           Peru     PE      0\n",
      "106                      Thailand     TH      0\n",
      "101                     Sri Lanka     LK      0\n",
      "99                   South Africa     ZA      0\n",
      "95                   Sierra Leone     SL      0\n",
      "94                         Serbia     RS      0\n",
      "93                        Senegal     SN      0\n",
      "92                   Saudi Arabia     SA      0\n",
      "91                         Rwanda     RW      0\n",
      "90                         Russia     RU      0\n",
      "105                      Tanzania     TZ      0\n",
      "43                       Honduras     HN      0\n",
      "60                        Lebanon     LB      0\n",
      "22                       Colombia     CO      0\n",
      "29             Dominican Republic     DO      0\n",
      "30                        Ecuador     EC      0\n",
      "11                        Bolivia     BO      0\n",
      "31                          Egypt     EG      0\n",
      "32                    El Salvador     SV      0\n",
      "34                       Ethiopia     ET      0\n",
      "24                        Croatia     HR      0\n",
      "10                          Benin     BJ      0\n",
      "14                         Brazil     BR      0\n",
      "8                      Bangladesh     BD      0\n",
      "27   Democratic Republic of Congo     CD      0\n",
      "6                      Azerbaijan     AZ      0\n",
      "7                         Bahrain     BH      0\n",
      "38                        Georgia     GE      0\n",
      "16                        Burundi     BI      0\n",
      "3                         Armenia     AM      0\n",
      "42                      Guatemala     GT      0\n",
      "21                          China     CN      0\n",
      "17                       Cameroon     CM      0\n",
      "19                           Chad     TD      0\n",
      "40                          Ghana     GH      0\n",
      "41                         Greece     GR      0\n",
      "1                         Algeria     DZ      0\n",
      "37                          Gabon     GA      0\n",
      "12         Bosnia and Herzegovina     BA      0\n",
      "15                       Bulgaria     BG      1\n",
      "13                       Botswana     BW      1\n",
      "96                      Singapore     SG      1\n",
      "97                       Slovakia     SK      1\n",
      "102                        Sweden     SE      1\n",
      "100                         Spain     ES      1\n",
      "18                         Canada     CA      1\n",
      "103                   Switzerland     CH      1\n",
      "104                        Taiwan     SY      1\n",
      "9                         Belgium     BE      1\n",
      "5                         Austria     AT      1\n",
      "4                       Australia     AU      1\n",
      "113          United Arab Emirates     AE      1\n",
      "114                United Kingdom     GB      1\n",
      "115                 United States     US      1\n",
      "116                       Uruguay     UY      1\n",
      "98                       Slovenia     SI      1\n",
      "89                        Romania     RO      1\n",
      "44                        Hungary     HU      1\n",
      "87                       Portugal     PT      1\n",
      "45                        Iceland     IS      1\n",
      "49                        Ireland     IE      1\n",
      "39                        Germany     DE      1\n",
      "51                          Italy     IT      1\n",
      "52                        Jamaica     JM      1\n",
      "53                          Japan     JP      1\n",
      "54                         Jordan     JO      1\n",
      "57                  Korea (South)     KI      1\n",
      "58                         Kuwait     KW      1\n",
      "59                         Latvia     LV      1\n",
      "36                         France     FR      1\n",
      "35                        Finland     FI      1\n",
      "88                          Qatar     QA      1\n",
      "62                      Lithuania     LT      1\n",
      "65                       Malaysia     MY      1\n",
      "86                         Poland     PL      1\n",
      "20                          Chile     CL      1\n",
      "23                     Costa Rica     CR      1\n",
      "80                           Oman     OM      1\n",
      "33                        Estonia     EE      1\n",
      "79                         Norway     NO      1\n",
      "75                    Netherlands     NL      1\n",
      "25                         Cyprus     CY      1\n",
      "26                 Czech Republic     CZ      1\n",
      "28                        Denmark     DK      1\n",
      "68                      Mauritius     MU      1\n",
      "76                    New Zealand     NZ      1\n",
      "77                      Nicaragua     NI      2\n",
      "48                           Iran     IR      2\n",
      "2                       Argentina     AR      2\n",
      "120                      Zimbabwe     ZW      2\n"
     ]
    }
   ],
   "source": [
    "result = pd.DataFrame({'Country':raw['Country'], 'Abbrev':raw['Abbrev'], 'Label':y})\n",
    "with pd.option_context('display.max_rows', None, 'display.max_columns', 3):\n",
    "    print(result.sort_values('Label'))"
   ]
  },
  {
   "cell_type": "code",
   "execution_count": 103,
   "id": "edab12fc",
   "metadata": {},
   "outputs": [
    {
     "name": "stdout",
     "output_type": "stream",
     "text": [
      "      Label\n",
      "      count\n",
      "Label      \n",
      "0        70\n",
      "1        47\n",
      "2         4\n"
     ]
    }
   ],
   "source": [
    "n_init_two = result.groupby(\"Label\")[[\"Label\"]].agg(['count'])\n",
    "print(n_init_two)"
   ]
  },
  {
   "cell_type": "markdown",
   "id": "9950140e",
   "metadata": {},
   "source": [
    "# When n_init = 5"
   ]
  },
  {
   "cell_type": "code",
   "execution_count": 104,
   "id": "5020975f",
   "metadata": {},
   "outputs": [
    {
     "name": "stdout",
     "output_type": "stream",
     "text": [
      "inertia for k=3 is 161.2553773419662\n",
      "cluster centers:  [[ 1.21777164 -0.67632275 -0.90441375]\n",
      " [-0.85097477  1.02149992 -0.23897931]\n",
      " [ 0.15270973 -0.60009398  0.70424093]]\n",
      "cluster labels:  [2 2 0 2 1 1 0 0 2 1 2 2 2 1 0 2 0 2 1 0 1 2 0 1 2 1 1 0 1 2 0 2 2 1 2 1 1\n",
      " 2 2 1 2 2 2 2 1 1 2 2 0 1 0 1 1 1 1 2 2 1 1 1 0 0 1 2 2 1 2 2 1 0 2 2 2 2\n",
      " 2 1 1 0 0 1 1 0 2 0 2 2 1 1 1 1 0 2 0 2 2 2 1 1 1 0 1 2 1 1 1 2 2 2 0 2 0\n",
      " 2 0 1 1 1 1 2 0 2 0]\n"
     ]
    }
   ],
   "source": [
    "# using n_init = 5\n",
    "k = 3\n",
    "kmeans = KMeans(n_clusters=k, n_init=5, random_state=1)\n",
    "kmeans.fit(X)\n",
    "\n",
    "# print inertia & cluster center\n",
    "print(\"inertia for k=3 is\", kmeans.inertia_)\n",
    "print(\"cluster centers: \", kmeans.cluster_centers_)\n",
    "\n",
    "# take a quick look at the result\n",
    "y = kmeans.labels_\n",
    "print(\"cluster labels: \", y)"
   ]
  },
  {
   "cell_type": "code",
   "execution_count": 105,
   "id": "49bd6c5f",
   "metadata": {},
   "outputs": [
    {
     "name": "stdout",
     "output_type": "stream",
     "text": [
      "                          Country Abbrev  Label\n",
      "60                        Lebanon     LB      0\n",
      "30                        Ecuador     EC      0\n",
      "48                           Iran     IR      0\n",
      "50                         Israel     IL      0\n",
      "61                        Liberia     LR      0\n",
      "69                         Mexico     MX      0\n",
      "77                      Nicaragua     NI      0\n",
      "78                        Nigeria     NG      0\n",
      "27   Democratic Republic of Congo     CD      0\n",
      "81                       Pakistan     PK      0\n",
      "90                         Russia     RU      0\n",
      "92                   Saudi Arabia     SA      0\n",
      "99                   South Africa     ZA      0\n",
      "108           Trinidad and Tobago     TT      0\n",
      "110                        Turkey     TR      0\n",
      "112                       Ukraine     UA      0\n",
      "118                         Yemen     YE      0\n",
      "83                       Paraguay     PY      0\n",
      "22                       Colombia     CO      0\n",
      "120                      Zimbabwe     ZW      0\n",
      "14                         Brazil     BR      0\n",
      "2                       Argentina     AR      0\n",
      "19                           Chad     TD      0\n",
      "16                        Burundi     BI      0\n",
      "7                         Bahrain     BH      0\n",
      "6                      Azerbaijan     AZ      0\n",
      "13                       Botswana     BW      1\n",
      "100                         Spain     ES      1\n",
      "59                         Latvia     LV      1\n",
      "58                         Kuwait     KW      1\n",
      "57                  Korea (South)     KI      1\n",
      "102                        Sweden     SE      1\n",
      "54                         Jordan     JO      1\n",
      "53                          Japan     JP      1\n",
      "87                       Portugal     PT      1\n",
      "62                      Lithuania     LT      1\n",
      "5                         Austria     AT      1\n",
      "20                          Chile     CL      1\n",
      "65                       Malaysia     MY      1\n",
      "51                          Italy     IT      1\n",
      "96                      Singapore     SG      1\n",
      "68                      Mauritius     MU      1\n",
      "75                    Netherlands     NL      1\n",
      "76                    New Zealand     NZ      1\n",
      "89                        Romania     RO      1\n",
      "79                         Norway     NO      1\n",
      "80                           Oman     OM      1\n",
      "9                         Belgium     BE      1\n",
      "88                          Qatar     QA      1\n",
      "98                       Slovenia     SI      1\n",
      "97                       Slovakia     SK      1\n",
      "52                        Jamaica     JM      1\n",
      "103                   Switzerland     CH      1\n",
      "18                         Canada     CA      1\n",
      "23                     Costa Rica     CR      1\n",
      "25                         Cyprus     CY      1\n",
      "26                 Czech Republic     CZ      1\n",
      "116                       Uruguay     UY      1\n",
      "28                        Denmark     DK      1\n",
      "115                 United States     US      1\n",
      "114                United Kingdom     GB      1\n",
      "49                        Ireland     IE      1\n",
      "33                        Estonia     EE      1\n",
      "35                        Finland     FI      1\n",
      "36                         France     FR      1\n",
      "113          United Arab Emirates     AE      1\n",
      "86                         Poland     PL      1\n",
      "39                        Germany     DE      1\n",
      "104                        Taiwan     SY      1\n",
      "4                       Australia     AU      1\n",
      "45                        Iceland     IS      1\n",
      "44                        Hungary     HU      1\n",
      "1                         Algeria     DZ      2\n",
      "105                      Tanzania     TZ      2\n",
      "117                       Vietnam     VI      2\n",
      "101                     Sri Lanka     LK      2\n",
      "3                         Armenia     AM      2\n",
      "91                         Rwanda     RW      2\n",
      "107          The FYR of Macedonia     MK      2\n",
      "93                        Senegal     SN      2\n",
      "94                         Serbia     RS      2\n",
      "95                   Sierra Leone     SL      2\n",
      "109                       Tunisia     TN      2\n",
      "111                        Uganda     UG      2\n",
      "106                      Thailand     TH      2\n",
      "70                        Moldova     FM      2\n",
      "84                           Peru     PE      2\n",
      "46                          India     IN      2\n",
      "43                       Honduras     HN      2\n",
      "42                      Guatemala     GT      2\n",
      "41                         Greece     GR      2\n",
      "40                          Ghana     GH      2\n",
      "38                        Georgia     GE      2\n",
      "47                      Indonesia     ID      2\n",
      "37                          Gabon     GA      2\n",
      "32                    El Salvador     SV      2\n",
      "31                          Egypt     EG      2\n",
      "29             Dominican Republic     DO      2\n",
      "17                       Cameroon     CM      2\n",
      "24                        Croatia     HR      2\n",
      "21                          China     CN      2\n",
      "34                       Ethiopia     ET      2\n",
      "85                    Philippines     PH      2\n",
      "15                       Bulgaria     BG      2\n",
      "56                          Kenya     KE      2\n",
      "8                      Bangladesh     BD      2\n",
      "82                         Panama     PA      2\n",
      "10                          Benin     BJ      2\n",
      "11                        Bolivia     BO      2\n",
      "74                          Nepal     NP      2\n",
      "73                     Mozambique     MZ      2\n",
      "55                     Kazakhstan     KZ      2\n",
      "72                        Morocco     MA      2\n",
      "12         Bosnia and Herzegovina     BA      2\n",
      "67                     Mauritania     MR      2\n",
      "66                           Mali     ML      2\n",
      "64                         Malawi     MW      2\n",
      "63                     Madagascar     MG      2\n",
      "119                        Zambia     ZM      2\n",
      "71                     Montenegro     ME      2\n",
      "0                         Albania     AL      2\n"
     ]
    }
   ],
   "source": [
    "result = pd.DataFrame({'Country':raw['Country'], 'Abbrev':raw['Abbrev'], 'Label':y})\n",
    "with pd.option_context('display.max_rows', None, 'display.max_columns', 3):\n",
    "    print(result.sort_values('Label'))"
   ]
  },
  {
   "cell_type": "code",
   "execution_count": 106,
   "id": "c50bf9dd",
   "metadata": {},
   "outputs": [
    {
     "name": "stdout",
     "output_type": "stream",
     "text": [
      "      Label\n",
      "      count\n",
      "Label      \n",
      "0        26\n",
      "1        46\n",
      "2        49\n"
     ]
    }
   ],
   "source": [
    "n_init_five = result.groupby(\"Label\")[[\"Label\"]].agg(['count'])\n",
    "print(n_init_five)"
   ]
  },
  {
   "cell_type": "markdown",
   "id": "554213b7",
   "metadata": {},
   "source": [
    "# When n_init = 11"
   ]
  },
  {
   "cell_type": "code",
   "execution_count": 107,
   "id": "e67e33af",
   "metadata": {},
   "outputs": [
    {
     "name": "stdout",
     "output_type": "stream",
     "text": [
      "inertia for k=3 is 161.13338710052557\n",
      "cluster centers:  [[ 1.22506036 -0.83385901 -1.07842464]\n",
      " [-0.85097477  1.02149992 -0.23897931]\n",
      " [ 0.23006626 -0.54045468  0.65506397]]\n",
      "cluster labels:  [2 2 0 2 1 1 2 2 2 1 2 2 2 1 0 2 0 2 1 0 1 2 2 1 2 1 1 0 1 2 0 2 2 1 2 1 1\n",
      " 2 2 1 2 2 2 2 1 1 2 2 0 1 2 1 1 1 1 2 2 1 1 1 0 0 1 2 2 1 2 2 1 0 2 2 2 2\n",
      " 2 1 1 0 0 1 1 0 2 0 2 2 1 1 1 1 0 2 0 2 2 2 1 1 1 0 1 2 1 1 1 2 2 2 0 2 0\n",
      " 2 0 1 1 1 1 2 0 2 0]\n"
     ]
    }
   ],
   "source": [
    "# using n_init = 12\n",
    "k = 3\n",
    "kmeans = KMeans(n_clusters=k, n_init=11, random_state=1)\n",
    "kmeans.fit(X)\n",
    "\n",
    "# print inertia & cluster center\n",
    "print(\"inertia for k=3 is\", kmeans.inertia_)\n",
    "print(\"cluster centers: \", kmeans.cluster_centers_)\n",
    "\n",
    "# take a quick look at the result\n",
    "y = kmeans.labels_\n",
    "print(\"cluster labels: \", y)"
   ]
  },
  {
   "cell_type": "code",
   "execution_count": 108,
   "id": "a05326cf",
   "metadata": {},
   "outputs": [
    {
     "name": "stdout",
     "output_type": "stream",
     "text": [
      "                          Country Abbrev  Label\n",
      "60                        Lebanon     LB      0\n",
      "30                        Ecuador     EC      0\n",
      "48                           Iran     IR      0\n",
      "61                        Liberia     LR      0\n",
      "69                         Mexico     MX      0\n",
      "77                      Nicaragua     NI      0\n",
      "78                        Nigeria     NG      0\n",
      "81                       Pakistan     PK      0\n",
      "83                       Paraguay     PY      0\n",
      "90                         Russia     RU      0\n",
      "92                   Saudi Arabia     SA      0\n",
      "99                   South Africa     ZA      0\n",
      "108           Trinidad and Tobago     TT      0\n",
      "110                        Turkey     TR      0\n",
      "112                       Ukraine     UA      0\n",
      "118                         Yemen     YE      0\n",
      "27   Democratic Republic of Congo     CD      0\n",
      "19                           Chad     TD      0\n",
      "120                      Zimbabwe     ZW      0\n",
      "14                         Brazil     BR      0\n",
      "16                        Burundi     BI      0\n",
      "2                       Argentina     AR      0\n",
      "51                          Italy     IT      1\n",
      "103                   Switzerland     CH      1\n",
      "49                        Ireland     IE      1\n",
      "102                        Sweden     SE      1\n",
      "86                         Poland     PL      1\n",
      "52                        Jamaica     JM      1\n",
      "53                          Japan     JP      1\n",
      "54                         Jordan     JO      1\n",
      "100                         Spain     ES      1\n",
      "57                  Korea (South)     KI      1\n",
      "58                         Kuwait     KW      1\n",
      "59                         Latvia     LV      1\n",
      "5                         Austria     AT      1\n",
      "13                       Botswana     BW      1\n",
      "62                      Lithuania     LT      1\n",
      "98                       Slovenia     SI      1\n",
      "97                       Slovakia     SK      1\n",
      "65                       Malaysia     MY      1\n",
      "96                      Singapore     SG      1\n",
      "68                      Mauritius     MU      1\n",
      "104                        Taiwan     SY      1\n",
      "45                        Iceland     IS      1\n",
      "44                        Hungary     HU      1\n",
      "75                    Netherlands     NL      1\n",
      "20                          Chile     CL      1\n",
      "87                       Portugal     PT      1\n",
      "9                         Belgium     BE      1\n",
      "23                     Costa Rica     CR      1\n",
      "116                       Uruguay     UY      1\n",
      "25                         Cyprus     CY      1\n",
      "26                 Czech Republic     CZ      1\n",
      "28                        Denmark     DK      1\n",
      "115                 United States     US      1\n",
      "114                United Kingdom     GB      1\n",
      "18                         Canada     CA      1\n",
      "113          United Arab Emirates     AE      1\n",
      "80                           Oman     OM      1\n",
      "35                        Finland     FI      1\n",
      "36                         France     FR      1\n",
      "79                         Norway     NO      1\n",
      "88                          Qatar     QA      1\n",
      "39                        Germany     DE      1\n",
      "4                       Australia     AU      1\n",
      "89                        Romania     RO      1\n",
      "76                    New Zealand     NZ      1\n",
      "33                        Estonia     EE      1\n",
      "7                         Bahrain     BH      2\n",
      "91                         Rwanda     RW      2\n",
      "6                      Azerbaijan     AZ      2\n",
      "17                       Cameroon     CM      2\n",
      "94                         Serbia     RS      2\n",
      "95                   Sierra Leone     SL      2\n",
      "101                     Sri Lanka     LK      2\n",
      "105                      Tanzania     TZ      2\n",
      "106                      Thailand     TH      2\n",
      "107          The FYR of Macedonia     MK      2\n",
      "109                       Tunisia     TN      2\n",
      "3                         Armenia     AM      2\n",
      "111                        Uganda     UG      2\n",
      "117                       Vietnam     VI      2\n",
      "1                         Algeria     DZ      2\n",
      "93                        Senegal     SN      2\n",
      "85                    Philippines     PH      2\n",
      "12         Bosnia and Herzegovina     BA      2\n",
      "8                      Bangladesh     BD      2\n",
      "43                       Honduras     HN      2\n",
      "42                      Guatemala     GT      2\n",
      "41                         Greece     GR      2\n",
      "40                          Ghana     GH      2\n",
      "38                        Georgia     GE      2\n",
      "37                          Gabon     GA      2\n",
      "46                          India     IN      2\n",
      "34                       Ethiopia     ET      2\n",
      "31                          Egypt     EG      2\n",
      "15                       Bulgaria     BG      2\n",
      "29             Dominican Republic     DO      2\n",
      "24                        Croatia     HR      2\n",
      "22                       Colombia     CO      2\n",
      "21                          China     CN      2\n",
      "32                    El Salvador     SV      2\n",
      "84                           Peru     PE      2\n",
      "47                      Indonesia     ID      2\n",
      "55                     Kazakhstan     KZ      2\n",
      "82                         Panama     PA      2\n",
      "10                          Benin     BJ      2\n",
      "11                        Bolivia     BO      2\n",
      "74                          Nepal     NP      2\n",
      "73                     Mozambique     MZ      2\n",
      "72                        Morocco     MA      2\n",
      "50                         Israel     IL      2\n",
      "71                     Montenegro     ME      2\n",
      "67                     Mauritania     MR      2\n",
      "66                           Mali     ML      2\n",
      "64                         Malawi     MW      2\n",
      "63                     Madagascar     MG      2\n",
      "119                        Zambia     ZM      2\n",
      "56                          Kenya     KE      2\n",
      "70                        Moldova     FM      2\n",
      "0                         Albania     AL      2\n"
     ]
    }
   ],
   "source": [
    "result = pd.DataFrame({'Country':raw['Country'], 'Abbrev':raw['Abbrev'], 'Label':y})\n",
    "with pd.option_context('display.max_rows', None, 'display.max_columns', 3):\n",
    "    print(result.sort_values('Label'))"
   ]
  },
  {
   "cell_type": "code",
   "execution_count": 110,
   "id": "03bb1663",
   "metadata": {},
   "outputs": [
    {
     "name": "stdout",
     "output_type": "stream",
     "text": [
      "      Label\n",
      "      count\n",
      "Label      \n",
      "0        22\n",
      "1        46\n",
      "2        53\n"
     ]
    }
   ],
   "source": [
    "n_init_eleven = result.groupby(\"Label\")[[\"Label\"]].agg(['count'])\n",
    "print(n_init_eleven)"
   ]
  },
  {
   "cell_type": "markdown",
   "id": "c9daf02f",
   "metadata": {},
   "source": [
    "# When n_init = 12"
   ]
  },
  {
   "cell_type": "code",
   "execution_count": 111,
   "id": "ee63fdcf",
   "metadata": {},
   "outputs": [
    {
     "name": "stdout",
     "output_type": "stream",
     "text": [
      "inertia for k=3 is 161.13338710052557\n",
      "cluster centers:  [[ 1.22506036 -0.83385901 -1.07842464]\n",
      " [-0.85097477  1.02149992 -0.23897931]\n",
      " [ 0.23006626 -0.54045468  0.65506397]]\n",
      "cluster labels:  [2 2 0 2 1 1 2 2 2 1 2 2 2 1 0 2 0 2 1 0 1 2 2 1 2 1 1 0 1 2 0 2 2 1 2 1 1\n",
      " 2 2 1 2 2 2 2 1 1 2 2 0 1 2 1 1 1 1 2 2 1 1 1 0 0 1 2 2 1 2 2 1 0 2 2 2 2\n",
      " 2 1 1 0 0 1 1 0 2 0 2 2 1 1 1 1 0 2 0 2 2 2 1 1 1 0 1 2 1 1 1 2 2 2 0 2 0\n",
      " 2 0 1 1 1 1 2 0 2 0]\n"
     ]
    }
   ],
   "source": [
    "# using n_init = 12\n",
    "k = 3\n",
    "kmeans = KMeans(n_clusters=k, n_init=12, random_state=1)\n",
    "kmeans.fit(X)\n",
    "\n",
    "# print inertia & cluster center\n",
    "print(\"inertia for k=3 is\", kmeans.inertia_)\n",
    "print(\"cluster centers: \", kmeans.cluster_centers_)\n",
    "\n",
    "# take a quick look at the result\n",
    "y = kmeans.labels_\n",
    "print(\"cluster labels: \", y)"
   ]
  },
  {
   "cell_type": "code",
   "execution_count": 112,
   "id": "61abd002",
   "metadata": {},
   "outputs": [
    {
     "name": "stdout",
     "output_type": "stream",
     "text": [
      "                          Country Abbrev  Label\n",
      "60                        Lebanon     LB      0\n",
      "30                        Ecuador     EC      0\n",
      "48                           Iran     IR      0\n",
      "61                        Liberia     LR      0\n",
      "69                         Mexico     MX      0\n",
      "77                      Nicaragua     NI      0\n",
      "78                        Nigeria     NG      0\n",
      "81                       Pakistan     PK      0\n",
      "83                       Paraguay     PY      0\n",
      "90                         Russia     RU      0\n",
      "92                   Saudi Arabia     SA      0\n",
      "99                   South Africa     ZA      0\n",
      "108           Trinidad and Tobago     TT      0\n",
      "110                        Turkey     TR      0\n",
      "112                       Ukraine     UA      0\n",
      "118                         Yemen     YE      0\n",
      "27   Democratic Republic of Congo     CD      0\n",
      "19                           Chad     TD      0\n",
      "120                      Zimbabwe     ZW      0\n",
      "14                         Brazil     BR      0\n",
      "16                        Burundi     BI      0\n",
      "2                       Argentina     AR      0\n",
      "51                          Italy     IT      1\n",
      "103                   Switzerland     CH      1\n",
      "49                        Ireland     IE      1\n",
      "102                        Sweden     SE      1\n",
      "86                         Poland     PL      1\n",
      "52                        Jamaica     JM      1\n",
      "53                          Japan     JP      1\n",
      "54                         Jordan     JO      1\n",
      "100                         Spain     ES      1\n",
      "57                  Korea (South)     KI      1\n",
      "58                         Kuwait     KW      1\n",
      "59                         Latvia     LV      1\n",
      "5                         Austria     AT      1\n",
      "13                       Botswana     BW      1\n",
      "62                      Lithuania     LT      1\n",
      "98                       Slovenia     SI      1\n",
      "97                       Slovakia     SK      1\n",
      "65                       Malaysia     MY      1\n",
      "96                      Singapore     SG      1\n",
      "68                      Mauritius     MU      1\n",
      "104                        Taiwan     SY      1\n",
      "45                        Iceland     IS      1\n",
      "44                        Hungary     HU      1\n",
      "75                    Netherlands     NL      1\n",
      "20                          Chile     CL      1\n",
      "87                       Portugal     PT      1\n",
      "9                         Belgium     BE      1\n",
      "23                     Costa Rica     CR      1\n",
      "116                       Uruguay     UY      1\n",
      "25                         Cyprus     CY      1\n",
      "26                 Czech Republic     CZ      1\n",
      "28                        Denmark     DK      1\n",
      "115                 United States     US      1\n",
      "114                United Kingdom     GB      1\n",
      "18                         Canada     CA      1\n",
      "113          United Arab Emirates     AE      1\n",
      "80                           Oman     OM      1\n",
      "35                        Finland     FI      1\n",
      "36                         France     FR      1\n",
      "79                         Norway     NO      1\n",
      "88                          Qatar     QA      1\n",
      "39                        Germany     DE      1\n",
      "4                       Australia     AU      1\n",
      "89                        Romania     RO      1\n",
      "76                    New Zealand     NZ      1\n",
      "33                        Estonia     EE      1\n",
      "7                         Bahrain     BH      2\n",
      "91                         Rwanda     RW      2\n",
      "6                      Azerbaijan     AZ      2\n",
      "17                       Cameroon     CM      2\n",
      "94                         Serbia     RS      2\n",
      "95                   Sierra Leone     SL      2\n",
      "101                     Sri Lanka     LK      2\n",
      "105                      Tanzania     TZ      2\n",
      "106                      Thailand     TH      2\n",
      "107          The FYR of Macedonia     MK      2\n",
      "109                       Tunisia     TN      2\n",
      "3                         Armenia     AM      2\n",
      "111                        Uganda     UG      2\n",
      "117                       Vietnam     VI      2\n",
      "1                         Algeria     DZ      2\n",
      "93                        Senegal     SN      2\n",
      "85                    Philippines     PH      2\n",
      "12         Bosnia and Herzegovina     BA      2\n",
      "8                      Bangladesh     BD      2\n",
      "43                       Honduras     HN      2\n",
      "42                      Guatemala     GT      2\n",
      "41                         Greece     GR      2\n",
      "40                          Ghana     GH      2\n",
      "38                        Georgia     GE      2\n",
      "37                          Gabon     GA      2\n",
      "46                          India     IN      2\n",
      "34                       Ethiopia     ET      2\n",
      "31                          Egypt     EG      2\n",
      "15                       Bulgaria     BG      2\n",
      "29             Dominican Republic     DO      2\n",
      "24                        Croatia     HR      2\n",
      "22                       Colombia     CO      2\n",
      "21                          China     CN      2\n",
      "32                    El Salvador     SV      2\n",
      "84                           Peru     PE      2\n",
      "47                      Indonesia     ID      2\n",
      "55                     Kazakhstan     KZ      2\n",
      "82                         Panama     PA      2\n",
      "10                          Benin     BJ      2\n",
      "11                        Bolivia     BO      2\n",
      "74                          Nepal     NP      2\n",
      "73                     Mozambique     MZ      2\n",
      "72                        Morocco     MA      2\n",
      "50                         Israel     IL      2\n",
      "71                     Montenegro     ME      2\n",
      "67                     Mauritania     MR      2\n",
      "66                           Mali     ML      2\n",
      "64                         Malawi     MW      2\n",
      "63                     Madagascar     MG      2\n",
      "119                        Zambia     ZM      2\n",
      "56                          Kenya     KE      2\n",
      "70                        Moldova     FM      2\n",
      "0                         Albania     AL      2\n"
     ]
    }
   ],
   "source": [
    "result = pd.DataFrame({'Country':raw['Country'], 'Abbrev':raw['Abbrev'], 'Label':y})\n",
    "with pd.option_context('display.max_rows', None, 'display.max_columns', 3):\n",
    "    print(result.sort_values('Label'))"
   ]
  },
  {
   "cell_type": "code",
   "execution_count": 113,
   "id": "132bb9c8",
   "metadata": {},
   "outputs": [
    {
     "name": "stdout",
     "output_type": "stream",
     "text": [
      "      Label\n",
      "      count\n",
      "Label      \n",
      "0        22\n",
      "1        46\n",
      "2        53\n"
     ]
    }
   ],
   "source": [
    "n_init_twelve = result.groupby(\"Label\")[[\"Label\"]].agg(['count'])\n",
    "print(n_init_twelve)"
   ]
  },
  {
   "cell_type": "markdown",
   "id": "d395f6de",
   "metadata": {},
   "source": [
    "# (C) Comparing 4 features with 3 features both with n_init = default "
   ]
  },
  {
   "cell_type": "code",
   "execution_count": 115,
   "id": "336e0aa5",
   "metadata": {},
   "outputs": [
    {
     "name": "stdout",
     "output_type": "stream",
     "text": [
      "inertia for k=3 is 194.4046655009297\n",
      "cluster centers:  [[-0.89877793  1.12417837 -0.26007806  1.17949284]\n",
      " [ 0.17066495 -0.47838646  0.5929059  -0.49863571]\n",
      " [ 1.22506036 -0.83385901 -1.07842464 -0.88356071]]\n",
      "cluster labels:  [1 1 2 1 0 0 1 1 1 0 1 1 1 0 2 1 2 1 0 2 0 1 1 0 1 0 0 2 0 1 2 1 1 0 1 0 0\n",
      " 1 1 0 1 1 1 1 1 0 1 1 2 0 1 0 1 0 1 1 1 0 1 0 2 2 0 1 1 0 1 1 0 2 1 1 1 1\n",
      " 1 0 0 2 2 0 0 2 1 2 1 1 0 0 0 1 2 1 2 1 1 1 0 0 0 2 0 1 0 0 0 1 1 1 2 1 2\n",
      " 1 2 0 0 0 0 1 2 1 2]\n"
     ]
    }
   ],
   "source": [
    "# setting back n to default\n",
    "X = raw[['Peace', 'Legal', 'GDP Growth','Corruption']]\n",
    "X = (X - X.mean()) / X.std()\n",
    "\n",
    "k = 3\n",
    "kmeans = KMeans(n_clusters=k, random_state=1)\n",
    "kmeans.fit(X)\n",
    "\n",
    "# print inertia & cluster center\n",
    "print(\"inertia for k=3 is\", kmeans.inertia_)\n",
    "print(\"cluster centers: \", kmeans.cluster_centers_)\n",
    "\n",
    "# take a quick look at the result\n",
    "y = kmeans.labels_\n",
    "print(\"cluster labels: \", y)\n",
    "\n"
   ]
  },
  {
   "cell_type": "code",
   "execution_count": 116,
   "id": "89977414",
   "metadata": {},
   "outputs": [
    {
     "name": "stdout",
     "output_type": "stream",
     "text": [
      "                          Country Abbrev  Label\n",
      "51                          Italy     IT      0\n",
      "33                        Estonia     EE      0\n",
      "35                        Finland     FI      0\n",
      "36                         France     FR      0\n",
      "39                        Germany     DE      0\n",
      "45                        Iceland     IS      0\n",
      "49                        Ireland     IE      0\n",
      "53                          Japan     JP      0\n",
      "57                  Korea (South)     KI      0\n",
      "59                         Latvia     LV      0\n",
      "62                      Lithuania     LT      0\n",
      "65                       Malaysia     MY      0\n",
      "68                      Mauritius     MU      0\n",
      "75                    Netherlands     NL      0\n",
      "76                    New Zealand     NZ      0\n",
      "79                         Norway     NO      0\n",
      "80                           Oman     OM      0\n",
      "86                         Poland     PL      0\n",
      "87                       Portugal     PT      0\n",
      "88                          Qatar     QA      0\n",
      "104                        Taiwan     SY      0\n",
      "96                      Singapore     SG      0\n",
      "97                       Slovakia     SK      0\n",
      "98                       Slovenia     SI      0\n",
      "103                   Switzerland     CH      0\n",
      "100                         Spain     ES      0\n",
      "113          United Arab Emirates     AE      0\n",
      "28                        Denmark     DK      0\n",
      "102                        Sweden     SE      0\n",
      "26                 Czech Republic     CZ      0\n",
      "114                United Kingdom     GB      0\n",
      "115                 United States     US      0\n",
      "25                         Cyprus     CY      0\n",
      "4                       Australia     AU      0\n",
      "5                         Austria     AT      0\n",
      "23                     Costa Rica     CR      0\n",
      "116                       Uruguay     UY      0\n",
      "20                          Chile     CL      0\n",
      "9                         Belgium     BE      0\n",
      "13                       Botswana     BW      0\n",
      "18                         Canada     CA      0\n",
      "29             Dominican Republic     DO      1\n",
      "10                          Benin     BJ      1\n",
      "11                        Bolivia     BO      1\n",
      "73                     Mozambique     MZ      1\n",
      "12         Bosnia and Herzegovina     BA      1\n",
      "74                          Nepal     NP      1\n",
      "72                        Morocco     MA      1\n",
      "71                     Montenegro     ME      1\n",
      "109                       Tunisia     TN      1\n",
      "107          The FYR of Macedonia     MK      1\n",
      "84                           Peru     PE      1\n",
      "106                      Thailand     TH      1\n",
      "70                        Moldova     FM      1\n",
      "85                    Philippines     PH      1\n",
      "8                      Bangladesh     BD      1\n",
      "7                         Bahrain     BH      1\n",
      "89                        Romania     RO      1\n",
      "105                      Tanzania     TZ      1\n",
      "91                         Rwanda     RW      1\n",
      "6                      Azerbaijan     AZ      1\n",
      "93                        Senegal     SN      1\n",
      "94                         Serbia     RS      1\n",
      "95                   Sierra Leone     SL      1\n",
      "3                         Armenia     AM      1\n",
      "1                         Algeria     DZ      1\n",
      "82                         Panama     PA      1\n",
      "117                       Vietnam     VI      1\n",
      "15                       Bulgaria     BG      1\n",
      "47                      Indonesia     ID      1\n",
      "31                          Egypt     EG      1\n",
      "32                    El Salvador     SV      1\n",
      "34                       Ethiopia     ET      1\n",
      "24                        Croatia     HR      1\n",
      "37                          Gabon     GA      1\n",
      "38                        Georgia     GE      1\n",
      "22                       Colombia     CO      1\n",
      "40                          Ghana     GH      1\n",
      "41                         Greece     GR      1\n",
      "42                      Guatemala     GT      1\n",
      "43                       Honduras     HN      1\n",
      "44                        Hungary     HU      1\n",
      "21                          China     CN      1\n",
      "46                          India     IN      1\n",
      "67                     Mauritania     MR      1\n",
      "0                         Albania     AL      1\n",
      "50                         Israel     IL      1\n",
      "66                           Mali     ML      1\n",
      "64                         Malawi     MW      1\n",
      "63                     Madagascar     MG      1\n",
      "111                        Uganda     UG      1\n",
      "119                        Zambia     ZM      1\n",
      "58                         Kuwait     KW      1\n",
      "17                       Cameroon     CM      1\n",
      "55                     Kazakhstan     KZ      1\n",
      "54                         Jordan     JO      1\n",
      "52                        Jamaica     JM      1\n",
      "101                     Sri Lanka     LK      1\n",
      "56                          Kenya     KE      1\n",
      "112                       Ukraine     UA      2\n",
      "108           Trinidad and Tobago     TT      2\n",
      "118                         Yemen     YE      2\n",
      "110                        Turkey     TR      2\n",
      "60                        Lebanon     LB      2\n",
      "92                   Saudi Arabia     SA      2\n",
      "2                       Argentina     AR      2\n",
      "14                         Brazil     BR      2\n",
      "16                        Burundi     BI      2\n",
      "19                           Chad     TD      2\n",
      "27   Democratic Republic of Congo     CD      2\n",
      "30                        Ecuador     EC      2\n",
      "99                   South Africa     ZA      2\n",
      "48                           Iran     IR      2\n",
      "69                         Mexico     MX      2\n",
      "77                      Nicaragua     NI      2\n",
      "78                        Nigeria     NG      2\n",
      "81                       Pakistan     PK      2\n",
      "83                       Paraguay     PY      2\n",
      "90                         Russia     RU      2\n",
      "61                        Liberia     LR      2\n",
      "120                      Zimbabwe     ZW      2\n"
     ]
    }
   ],
   "source": [
    "result = pd.DataFrame({'Country':raw['Country'], 'Abbrev':raw['Abbrev'], 'Label':y})\n",
    "with pd.option_context('display.max_rows', None, 'display.max_columns', 3):\n",
    "    print(result.sort_values('Label'))"
   ]
  },
  {
   "cell_type": "code",
   "execution_count": 117,
   "id": "225f5550",
   "metadata": {},
   "outputs": [
    {
     "name": "stdout",
     "output_type": "stream",
     "text": [
      "      Label\n",
      "      count\n",
      "Label      \n",
      "0        41\n",
      "1        58\n",
      "2        22\n"
     ]
    }
   ],
   "source": [
    "n_init_default_four = result.groupby(\"Label\")[[\"Label\"]].agg(['count'])\n",
    "print(n_init_default_four)"
   ]
  },
  {
   "cell_type": "markdown",
   "id": "893a480d",
   "metadata": {},
   "source": [
    "# (D) Using hierarchical clustering and compare results with k means "
   ]
  },
  {
   "cell_type": "code",
   "execution_count": 118,
   "id": "d7f03cfc",
   "metadata": {},
   "outputs": [],
   "source": [
    "from sklearn.cluster import AgglomerativeClustering as alc\n",
    "import scipy.cluster.hierarchy as sch"
   ]
  },
  {
   "cell_type": "markdown",
   "id": "08027eea",
   "metadata": {},
   "source": [
    "# When linkage = ward"
   ]
  },
  {
   "cell_type": "code",
   "execution_count": 147,
   "id": "590e930b",
   "metadata": {},
   "outputs": [
    {
     "name": "stdout",
     "output_type": "stream",
     "text": [
      "          Legal           Peace       GDP Growth      \n",
      "           mean count      mean count       mean count\n",
      "label                                                 \n",
      "0      6.922200    55  1.699200    55   1.852145    55\n",
      "1      4.179357    14  2.812429    14  -0.140500    14\n",
      "2      4.938923    52  2.101788    52   4.262692    52\n"
     ]
    }
   ],
   "source": [
    "with_ward = alc(n_clusters = 3,affinity = 'euclidean',linkage = 'ward' )\n",
    "with_ward.fit(X)\n",
    "raw [\"label\"] = with_ward.labels_\n",
    "group_by_ward = raw.groupby(\"label\")[['Legal','Peace','GDP Growth']].agg(['mean','count'])\n",
    "print(group_by_ward)"
   ]
  },
  {
   "cell_type": "markdown",
   "id": "7a49ae8d",
   "metadata": {},
   "source": [
    "# When linkage = complete"
   ]
  },
  {
   "cell_type": "code",
   "execution_count": 145,
   "id": "0cda68fc",
   "metadata": {},
   "outputs": [
    {
     "name": "stdout",
     "output_type": "stream",
     "text": [
      "          Legal           Peace       GDP Growth      \n",
      "           mean count      mean count       mean count\n",
      "label                                                 \n",
      "0      4.762949    59  2.243814    59   4.005712    59\n",
      "1      6.820153    59  1.735949    59   1.810153    59\n",
      "2      4.217667     3  2.439000     3  -7.191667     3\n"
     ]
    }
   ],
   "source": [
    "with_ward = alc(n_clusters = 3,affinity = 'euclidean',linkage = 'complete' )\n",
    "with_ward.fit(X)\n",
    "raw [\"label\"] = with_ward.labels_\n",
    "group_by_ward = raw.groupby(\"label\")[['Legal','Peace','GDP Growth']].agg(['mean','count'])\n",
    "print(group_by_ward)"
   ]
  },
  {
   "cell_type": "markdown",
   "id": "a722dfee",
   "metadata": {},
   "source": [
    "# When linkage = average"
   ]
  },
  {
   "cell_type": "code",
   "execution_count": 146,
   "id": "b386bb66",
   "metadata": {},
   "outputs": [
    {
     "name": "stdout",
     "output_type": "stream",
     "text": [
      "          Legal           Peace       GDP Growth      \n",
      "           mean count      mean count       mean count\n",
      "label                                                 \n",
      "0      7.159522    46  1.611413    46   2.175761    46\n",
      "1      4.435000     4  2.326500     4  -6.159000     4\n",
      "2      4.915183    71  2.235099    71   3.466366    71\n"
     ]
    }
   ],
   "source": [
    "with_ward = alc(n_clusters = 3,affinity = 'euclidean',linkage = 'average' )\n",
    "with_ward.fit(X)\n",
    "raw [\"label\"] = with_ward.labels_\n",
    "group_by_ward = raw.groupby(\"label\")[['Legal','Peace','GDP Growth']].agg(['mean','count'])\n",
    "print(group_by_ward)"
   ]
  },
  {
   "cell_type": "code",
   "execution_count": null,
   "id": "58db5aad",
   "metadata": {},
   "outputs": [],
   "source": []
  },
  {
   "cell_type": "markdown",
   "id": "04632fee",
   "metadata": {},
   "source": [
    "# (E) Insert Venezueala's index information and analyze outliers "
   ]
  },
  {
   "cell_type": "code",
   "execution_count": 121,
   "id": "76111992",
   "metadata": {},
   "outputs": [
    {
     "name": "stdout",
     "output_type": "stream",
     "text": [
      "       Country Abbrev  Corruption  Peace  Legal  GDP Growth\n",
      "121  Venezuela     VE          16  2.671  2.895         -35\n"
     ]
    }
   ],
   "source": [
    "ve = pd.DataFrame({'Country':['Venezuela'],\n",
    "                  'Abbrev':['VE'],\n",
    "                  'Corruption':[16],\n",
    "                  'Peace':[2.671],\n",
    "                  'Legal':[2.895],\n",
    "                  'GDP Growth':[-35],},index = [121])\n",
    "print(ve)"
   ]
  },
  {
   "cell_type": "code",
   "execution_count": 138,
   "id": "932e62c7",
   "metadata": {},
   "outputs": [
    {
     "name": "stdout",
     "output_type": "stream",
     "text": [
      "       Country Abbrev  Corruption  Peace  Legal  GDP Growth  label\n",
      "0      Albania     AL          35  1.821  4.546       2.983    2.0\n",
      "1      Algeria     DZ          35  2.219  4.435       2.553    2.0\n",
      "2    Argentina     AR          45  1.989  5.087      -3.061    1.0\n",
      "3      Armenia     AM          42  2.294  4.812       6.000    2.0\n",
      "4    Australia     AU          77  1.419  8.363       1.713    0.0\n",
      "..         ...    ...         ...    ...    ...         ...    ...\n",
      "117    Vietnam     VI          37  1.877  5.084       6.500    2.0\n",
      "118      Yemen     YE          15  3.369  2.671       2.113    2.0\n",
      "119     Zambia     ZM          34  1.805  4.592       2.021    2.0\n",
      "120   Zimbabwe     ZW          24  2.463  3.738      -7.077    1.0\n",
      "121  Venezuela     VE          16  2.671  2.895     -35.000    NaN\n",
      "\n",
      "[122 rows x 7 columns]\n"
     ]
    }
   ],
   "source": [
    "raw_with_ve = raw.append(ve)\n",
    "print(raw_with_ve)"
   ]
  },
  {
   "cell_type": "code",
   "execution_count": 139,
   "id": "1cb7d5d9",
   "metadata": {},
   "outputs": [
    {
     "name": "stdout",
     "output_type": "stream",
     "text": [
      "      Peace     Legal  GDP Growth  Corruption\n",
      "0 -0.390081 -0.878158    0.126952   -0.633230\n",
      "1  0.472352 -0.958948   -0.040772   -0.633230\n",
      "2 -0.026039 -0.484397   -2.230541   -0.098542\n",
      "3  0.634871 -0.684553    1.303747   -0.258948\n",
      "4 -1.261182  1.900001   -0.368418    1.612460\n"
     ]
    }
   ],
   "source": [
    "Y = raw_with_ve[['Peace', 'Legal', 'GDP Growth']]\n",
    "Y = (Y - Y.mean()) / Y.std()\n",
    "print(X.head(5))"
   ]
  },
  {
   "cell_type": "code",
   "execution_count": 140,
   "id": "e69077ae",
   "metadata": {},
   "outputs": [
    {
     "name": "stdout",
     "output_type": "stream",
     "text": [
      "inertia for k=3 is 147.3581596115833\n",
      "cluster centers:  [[ 0.50083526 -0.57899064  0.14262782]\n",
      " [ 1.4334541  -2.03528534 -8.76865913]\n",
      " [-0.9090402   1.05949011 -0.05031098]]\n",
      "cluster labels:  [0 0 0 0 2 2 0 0 0 2 0 0 0 2 0 2 0 0 2 0 2 0 0 2 0 2 2 0 2 0 0 0 0 2 0 2 2\n",
      " 0 0 2 0 0 0 0 2 2 0 0 0 2 0 2 0 2 0 0 0 2 0 2 0 0 2 0 0 2 0 0 2 0 0 0 0 0\n",
      " 0 2 2 0 0 2 2 0 0 0 0 0 2 2 2 2 0 0 0 0 0 0 2 2 2 0 2 0 2 2 2 0 0 0 0 0 0\n",
      " 0 0 2 2 2 2 0 0 0 0 1]\n"
     ]
    }
   ],
   "source": [
    "k = 3\n",
    "kmeans = KMeans(n_clusters=k, random_state=1)\n",
    "kmeans.fit(Y)\n",
    "\n",
    "# print inertia & cluster center\n",
    "print(\"inertia for k=3 is\", kmeans.inertia_)\n",
    "print(\"cluster centers: \", kmeans.cluster_centers_)\n",
    "\n",
    "# take a quick look at the result\n",
    "y = kmeans.labels_\n",
    "print(\"cluster labels: \", y)"
   ]
  },
  {
   "cell_type": "code",
   "execution_count": 142,
   "id": "acb51324",
   "metadata": {},
   "outputs": [
    {
     "name": "stdout",
     "output_type": "stream",
     "text": [
      "                          Country Abbrev  Label\n",
      "0                         Albania     AL      0\n",
      "78                        Nigeria     NG      0\n",
      "77                      Nicaragua     NI      0\n",
      "74                          Nepal     NP      0\n",
      "73                     Mozambique     MZ      0\n",
      "72                        Morocco     MA      0\n",
      "71                     Montenegro     ME      0\n",
      "70                        Moldova     FM      0\n",
      "69                         Mexico     MX      0\n",
      "67                     Mauritania     MR      0\n",
      "81                       Pakistan     PK      0\n",
      "66                           Mali     ML      0\n",
      "63                     Madagascar     MG      0\n",
      "61                        Liberia     LR      0\n",
      "120                      Zimbabwe     ZW      0\n",
      "58                         Kuwait     KW      0\n",
      "56                          Kenya     KE      0\n",
      "55                     Kazakhstan     KZ      0\n",
      "54                         Jordan     JO      0\n",
      "52                        Jamaica     JM      0\n",
      "50                         Israel     IL      0\n",
      "64                         Malawi     MW      0\n",
      "48                           Iran     IR      0\n",
      "82                         Panama     PA      0\n",
      "84                           Peru     PE      0\n",
      "119                        Zambia     ZM      0\n",
      "118                         Yemen     YE      0\n",
      "117                       Vietnam     VI      0\n",
      "112                       Ukraine     UA      0\n",
      "111                        Uganda     UG      0\n",
      "110                        Turkey     TR      0\n",
      "109                       Tunisia     TN      0\n",
      "108           Trinidad and Tobago     TT      0\n",
      "107          The FYR of Macedonia     MK      0\n",
      "83                       Paraguay     PY      0\n",
      "106                      Thailand     TH      0\n",
      "101                     Sri Lanka     LK      0\n",
      "99                   South Africa     ZA      0\n",
      "95                   Sierra Leone     SL      0\n",
      "94                         Serbia     RS      0\n",
      "93                        Senegal     SN      0\n",
      "92                   Saudi Arabia     SA      0\n",
      "91                         Rwanda     RW      0\n",
      "90                         Russia     RU      0\n",
      "85                    Philippines     PH      0\n",
      "105                      Tanzania     TZ      0\n",
      "47                      Indonesia     ID      0\n",
      "60                        Lebanon     LB      0\n",
      "21                          China     CN      0\n",
      "27   Democratic Republic of Congo     CD      0\n",
      "46                          India     IN      0\n",
      "29             Dominican Republic     DO      0\n",
      "30                        Ecuador     EC      0\n",
      "31                          Egypt     EG      0\n",
      "32                    El Salvador     SV      0\n",
      "19                           Chad     TD      0\n",
      "17                       Cameroon     CM      0\n",
      "34                       Ethiopia     ET      0\n",
      "16                        Burundi     BI      0\n",
      "14                         Brazil     BR      0\n",
      "12         Bosnia and Herzegovina     BA      0\n",
      "22                       Colombia     CO      0\n",
      "11                        Bolivia     BO      0\n",
      "38                        Georgia     GE      0\n",
      "10                          Benin     BJ      0\n",
      "8                      Bangladesh     BD      0\n",
      "7                         Bahrain     BH      0\n",
      "40                          Ghana     GH      0\n",
      "41                         Greece     GR      0\n",
      "42                      Guatemala     GT      0\n",
      "6                      Azerbaijan     AZ      0\n",
      "43                       Honduras     HN      0\n",
      "3                         Armenia     AM      0\n",
      "2                       Argentina     AR      0\n",
      "1                         Algeria     DZ      0\n",
      "37                          Gabon     GA      0\n",
      "24                        Croatia     HR      0\n",
      "121                     Venezuela     VE      1\n",
      "25                         Cyprus     CY      2\n",
      "102                        Sweden     SE      2\n",
      "103                   Switzerland     CH      2\n",
      "104                        Taiwan     SY      2\n",
      "62                      Lithuania     LT      2\n",
      "59                         Latvia     LV      2\n",
      "9                         Belgium     BE      2\n",
      "39                        Germany     DE      2\n",
      "57                  Korea (South)     KI      2\n",
      "36                         France     FR      2\n",
      "53                          Japan     JP      2\n",
      "4                       Australia     AU      2\n",
      "113          United Arab Emirates     AE      2\n",
      "114                United Kingdom     GB      2\n",
      "115                 United States     US      2\n",
      "116                       Uruguay     UY      2\n",
      "51                          Italy     IT      2\n",
      "44                        Hungary     HU      2\n",
      "49                        Ireland     IE      2\n",
      "5                         Austria     AT      2\n",
      "100                         Spain     ES      2\n",
      "13                       Botswana     BW      2\n",
      "98                       Slovenia     SI      2\n",
      "79                         Norway     NO      2\n",
      "80                           Oman     OM      2\n",
      "76                    New Zealand     NZ      2\n",
      "23                     Costa Rica     CR      2\n",
      "75                    Netherlands     NL      2\n",
      "28                        Denmark     DK      2\n",
      "20                          Chile     CL      2\n",
      "86                         Poland     PL      2\n",
      "87                       Portugal     PT      2\n",
      "88                          Qatar     QA      2\n",
      "89                        Romania     RO      2\n",
      "68                      Mauritius     MU      2\n",
      "18                         Canada     CA      2\n",
      "33                        Estonia     EE      2\n",
      "65                       Malaysia     MY      2\n",
      "15                       Bulgaria     BG      2\n",
      "35                        Finland     FI      2\n",
      "96                      Singapore     SG      2\n",
      "97                       Slovakia     SK      2\n",
      "26                 Czech Republic     CZ      2\n",
      "45                        Iceland     IS      2\n"
     ]
    }
   ],
   "source": [
    "result_with_ve = pd.DataFrame({'Country':raw_with_ve['Country'], 'Abbrev':raw_with_ve['Abbrev'], 'Label':y})\n",
    "with pd.option_context('display.max_rows', None, 'display.max_columns', 3):\n",
    "    print(result_with_ve.sort_values('Label'))"
   ]
  },
  {
   "cell_type": "code",
   "execution_count": 143,
   "id": "e8d61355",
   "metadata": {},
   "outputs": [
    {
     "name": "stdout",
     "output_type": "stream",
     "text": [
      "      Label\n",
      "      count\n",
      "Label      \n",
      "0        77\n",
      "1         1\n",
      "2        44\n"
     ]
    }
   ],
   "source": [
    "count_with_ve = result_with_ve.groupby(\"Label\")[[\"Label\"]].agg(['count'])\n",
    "print(count_with_ve)"
   ]
  }
 ],
 "metadata": {
  "kernelspec": {
   "display_name": "Python 3",
   "language": "python",
   "name": "python3"
  },
  "language_info": {
   "codemirror_mode": {
    "name": "ipython",
    "version": 3
   },
   "file_extension": ".py",
   "mimetype": "text/x-python",
   "name": "python",
   "nbconvert_exporter": "python",
   "pygments_lexer": "ipython3",
   "version": "3.8.8"
  }
 },
 "nbformat": 4,
 "nbformat_minor": 5
}
